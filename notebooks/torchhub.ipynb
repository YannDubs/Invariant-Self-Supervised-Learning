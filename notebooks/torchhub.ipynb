{
 "cells": [
  {
   "cell_type": "code",
   "execution_count": 1,
   "id": "known-collectible",
   "metadata": {},
   "outputs": [
    {
     "name": "stdout",
     "output_type": "stream",
     "text": [
      "Requirement already satisfied: scikit-learn==1.0.2 in /usr/local/lib/python3.8/dist-packages (1.0.2)\n",
      "Requirement already satisfied: tqdm==4.64.0 in /usr/local/lib/python3.8/dist-packages (4.64.0)\n",
      "Requirement already satisfied: tensorboard in /usr/local/lib/python3.8/dist-packages (2.10.0)\n",
      "\u001B[33mWARNING: You are using pip version 21.0.1; however, version 22.2.2 is available.\n",
      "You should consider upgrading via the '/usr/bin/python3.8 -m pip install --upgrade pip' command.\u001B[0m\n"
     ]
    }
   ],
   "source": [
    "!pip install torch scikit-learn tqdm "
   ]
  },
  {
   "cell_type": "markdown",
   "id": "concerned-substitute",
   "metadata": {},
   "source": [
    "## Load pretrained"
   ]
  },
  {
   "cell_type": "code",
   "execution_count": 11,
   "id": "hawaiian-blank",
   "metadata": {},
   "outputs": [
    {
     "name": "stderr",
     "output_type": "stream",
     "text": [
      "Using cache found in /root/.cache/torch/hub/YannDubs_Invariant-Self-Supervised-Learning_main\n",
      "Downloading: \"https://github.com/YannDubs/Invariant-Self-Supervised-Learning/releases/download/v1.0.0-alpha/dissl_resnet50_dNone_e400_m6.torch\" to /root/.cache/torch/hub/checkpoints/dissl_resnet50_dNone_e400_m6.torch\n"
     ]
    },
    {
     "data": {
      "application/vnd.jupyter.widget-view+json": {
       "model_id": "5c4256d6ff0e49f9ab2bad67a1a3bb49",
       "version_major": 2,
       "version_minor": 0
      },
      "text/plain": [
       "  0%|          | 0.00/90.0M [00:00<?, ?B/s]"
      ]
     },
     "metadata": {},
     "output_type": "display_data"
    },
    {
     "name": "stderr",
     "output_type": "stream",
     "text": [
      "Using cache found in /root/.cache/torch/hub/YannDubs_Invariant-Self-Supervised-Learning_main\n"
     ]
    }
   ],
   "source": [
    "import torch\n",
    "model = torch.hub.load('YannDubs/Invariant-Self-Supervised-Learning:main', 'dissl_resnet50_dNone_e400_m6')\n",
    "preprocessor = torch.hub.load('YannDubs/Invariant-Self-Supervised-Learning:main', 'preprocessor')"
   ]
  },
  {
   "cell_type": "code",
   "execution_count": 12,
   "id": "personal-edition",
   "metadata": {},
   "outputs": [
    {
     "name": "stderr",
     "output_type": "stream",
     "text": [
      "Using cache found in /root/.cache/torch/hub/YannDubs_Invariant-Self-Supervised-Learning_main\n"
     ]
    },
    {
     "data": {
      "text/plain": [
       "['dissl_resnet50_d8192_e100_m2',\n",
       " 'dissl_resnet50_d8192_e400_m6',\n",
       " 'dissl_resnet50_d8192_e800_m8',\n",
       " 'dissl_resnet50_dNone_e100_m2',\n",
       " 'dissl_resnet50_dNone_e400_m2',\n",
       " 'dissl_resnet50_dNone_e400_m6',\n",
       " 'preprocessor']"
      ]
     },
     "execution_count": 12,
     "metadata": {},
     "output_type": "execute_result"
    }
   ],
   "source": [
    "# other models\n",
    "torch.hub.list(\"YannDubs/Invariant-Self-Supervised-Learning:main\")"
   ]
  },
  {
   "cell_type": "markdown",
   "id": "earlier-manner",
   "metadata": {},
   "source": [
    "## Featurize some data\n",
    "This requires a GPU"
   ]
  },
  {
   "cell_type": "code",
   "execution_count": 13,
   "id": "starting-peter",
   "metadata": {},
   "outputs": [],
   "source": [
    "from torchvision.datasets import STL10\n",
    "data_dir = \"data/\"\n",
    "data_train = STL10(data_dir,  split=\"train\", transform=preprocessor, download=True)\n",
    "data_test = STL10(data_dir, split=\"test\", transform=preprocessor, download=True)"
   ]
  },
  {
   "cell_type": "code",
   "execution_count": 14,
   "id": "unavailable-hepatitis",
   "metadata": {},
   "outputs": [],
   "source": [
    "import tqdm\n",
    "from torch.utils.data import DataLoader\n",
    "import numpy as np\n",
    "import os\n",
    "\n",
    "def featurize_data(dataset, pretrained):\n",
    "    pretrained = pretrained.cuda().half()\n",
    "    with torch.no_grad():\n",
    "        Z, Y = [], []\n",
    "        for x, y in tqdm.tqdm(DataLoader(dataset, batch_size=512, num_workers=os.cpu_count())):\n",
    "            Z += [pretrained(x.cuda().half()).cpu().numpy()]\n",
    "            Y += [y.cpu().numpy()]\n",
    "    return np.concatenate(Z), np.concatenate(Y)"
   ]
  },
  {
   "cell_type": "code",
   "execution_count": 15,
   "id": "knowing-afghanistan",
   "metadata": {},
   "outputs": [
    {
     "name": "stderr",
     "output_type": "stream",
     "text": [
      "100%|██████████| 10/10 [00:12<00:00,  1.26s/it]\n",
      "100%|██████████| 16/16 [00:20<00:00,  1.26s/it]\n"
     ]
    }
   ],
   "source": [
    "Z_train, Y_train = featurize_data(data_train, model)\n",
    "Z_test, Y_test = featurize_data(data_test, model)"
   ]
  },
  {
   "cell_type": "markdown",
   "id": "parliamentary-savings",
   "metadata": {},
   "source": [
    "## Evaluate"
   ]
  },
  {
   "cell_type": "code",
   "execution_count": 16,
   "id": "conceptual-lawyer",
   "metadata": {},
   "outputs": [
    {
     "name": "stderr",
     "output_type": "stream",
     "text": [
      "100%|██████████| 7/7 [00:26<00:00,  3.74s/it]"
     ]
    },
    {
     "name": "stdout",
     "output_type": "stream",
     "text": [
      "Downstream STL10 accuracy: 96.00%\n"
     ]
    },
    {
     "name": "stderr",
     "output_type": "stream",
     "text": [
      "\n"
     ]
    }
   ],
   "source": [
    "# Downstream evaluation. Accuracy: 96.00%\n",
    "from sklearn.svm import LinearSVC\n",
    "\n",
    "best_acc = 0\n",
    "for C in tqdm.tqdm(np.logspace(-3,0,base=10,num=7)):\n",
    "    clf = LinearSVC(C=C)\n",
    "    clf.fit(Z_train, Y_train)\n",
    "    acc = clf.score(Z_test, Y_test)\n",
    "    best_acc = max(best_acc, acc)\n",
    "print(f\"Downstream STL10 accuracy: {best_acc*100:.2f}%\") "
   ]
  }
 ],
 "metadata": {
  "kernelspec": {
   "display_name": "firstEnv",
   "language": "python",
   "name": "firstenv"
  },
  "language_info": {
   "codemirror_mode": {
    "name": "ipython",
    "version": 3
   },
   "file_extension": ".py",
   "mimetype": "text/x-python",
   "name": "python",
   "nbconvert_exporter": "python",
   "pygments_lexer": "ipython3",
   "version": "3.8.7"
  }
 },
 "nbformat": 4,
 "nbformat_minor": 5
}